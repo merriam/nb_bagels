{
 "cells": [
  {
   "cell_type": "code",
   "execution_count": 1,
   "id": "2fa6911b",
   "metadata": {},
   "outputs": [
    {
     "name": "stdout",
     "output_type": "stream",
     "text": [
      "/Users/charlesmerriam/p/lit/nb_bagels\r\n"
     ]
    }
   ],
   "source": [
    "!pwd\n"
   ]
  },
  {
   "cell_type": "markdown",
   "id": "14e34001",
   "metadata": {},
   "source": [
    "## Replace conda environment 'rub' with fresh copy"
   ]
  },
  {
   "cell_type": "code",
   "execution_count": 14,
   "id": "c5c67287",
   "metadata": {},
   "outputs": [],
   "source": [
    "!rm -rf ~/l/miniconda3/envs/rub"
   ]
  },
  {
   "cell_type": "code",
   "execution_count": null,
   "id": "e7d38df4",
   "metadata": {},
   "outputs": [],
   "source": []
  },
  {
   "cell_type": "code",
   "execution_count": 18,
   "id": "9c4e3e26",
   "metadata": {},
   "outputs": [
    {
     "name": "stdout",
     "output_type": "stream",
     "text": [
      "Collecting package metadata (current_repodata.json): done\n",
      "Solving environment: failed with repodata from current_repodata.json, will retry with next repodata source.\n",
      "Collecting package metadata (repodata.json): done\n",
      "Solving environment: done\n",
      "\n",
      "\n",
      "==> WARNING: A newer version of conda exists. <==\n",
      "  current version: 4.10.3\n",
      "  latest version: 4.13.0\n",
      "\n",
      "Please update conda by running\n",
      "\n",
      "    $ conda update -n base -c defaults conda\n",
      "\n",
      "\n",
      "\n",
      "## Package Plan ##\n",
      "\n",
      "  environment location: /Users/charlesmerriam/l/miniconda3/envs/rub\n",
      "\n",
      "  added / updated specs:\n",
      "    - python=3.6\n",
      "    - ruby\n",
      "\n",
      "\n",
      "The following NEW packages will be INSTALLED:\n",
      "\n",
      "  ca-certificates    pkgs/main/osx-64::ca-certificates-2022.4.26-hecd8cb5_0\n",
      "  certifi            pkgs/main/osx-64::certifi-2021.5.30-py36hecd8cb5_0\n",
      "  gettext            pkgs/main/osx-64::gettext-0.21.0-h7535e17_0\n",
      "  gmp                pkgs/main/osx-64::gmp-6.2.1-he9d5cce_3\n",
      "  icu                pkgs/main/osx-64::icu-58.2-h0a44026_3\n",
      "  libcxx             pkgs/main/osx-64::libcxx-12.0.0-h2f01273_0\n",
      "  libffi             pkgs/main/osx-64::libffi-3.2.1-h0a44026_1007\n",
      "  libiconv           pkgs/main/osx-64::libiconv-1.16-hca72f7f_2\n",
      "  libxml2            pkgs/main/osx-64::libxml2-2.9.14-hbf8cd5e_0\n",
      "  llvm-openmp        pkgs/main/osx-64::llvm-openmp-12.0.0-h0dcd299_1\n",
      "  ncurses            pkgs/main/osx-64::ncurses-6.3-hca72f7f_3\n",
      "  openssl            pkgs/main/osx-64::openssl-1.1.1q-hca72f7f_0\n",
      "  pip                pkgs/main/osx-64::pip-21.2.2-py36hecd8cb5_0\n",
      "  python             pkgs/main/osx-64::python-3.6.10-hc70fcce_1\n",
      "  readline           pkgs/main/osx-64::readline-8.1.2-hca72f7f_1\n",
      "  ruby               pkgs/main/osx-64::ruby-2.5.1-h7107397_0\n",
      "  setuptools         pkgs/main/osx-64::setuptools-58.0.4-py36hecd8cb5_0\n",
      "  sqlite             pkgs/main/osx-64::sqlite-3.38.5-h707629a_0\n",
      "  tk                 pkgs/main/osx-64::tk-8.6.12-h5d9f67b_0\n",
      "  wheel              pkgs/main/noarch::wheel-0.37.1-pyhd3eb1b0_0\n",
      "  xz                 pkgs/main/osx-64::xz-5.2.5-hca72f7f_1\n",
      "  yaml               pkgs/main/osx-64::yaml-0.1.7-hc338f04_2\n",
      "  zlib               pkgs/main/osx-64::zlib-1.2.12-h4dc903c_2\n",
      "\n",
      "\n",
      "Preparing transaction: done\n",
      "Verifying transaction: done\n",
      "Executing transaction: done\n",
      "ERROR conda.core.link:_execute(701): An error occurred while installing package 'defaults::libcxx-12.0.0-h2f01273_0'.\n",
      "Rolling back transaction: done\n",
      "\n",
      "CondaError: Cannot link a source that does not exist. /Users/charlesmerriam/l/miniconda3/envs/rub/.condatmp/c8f26aed-0094-4eb2-9867-955d3daf4033\n",
      "Running `conda clean --packages` may resolve your problem.\n",
      "()\n",
      "\n"
     ]
    }
   ],
   "source": [
    "!conda create -yn rub ruby python=3.6"
   ]
  }
 ],
 "metadata": {
  "kernelspec": {
   "display_name": "Python [conda env:py] *",
   "language": "python",
   "name": "conda-env-py-py"
  },
  "language_info": {
   "codemirror_mode": {
    "name": "ipython",
    "version": 3
   },
   "file_extension": ".py",
   "mimetype": "text/x-python",
   "name": "python",
   "nbconvert_exporter": "python",
   "pygments_lexer": "ipython3",
   "version": "3.10.4"
  }
 },
 "nbformat": 4,
 "nbformat_minor": 5
}
